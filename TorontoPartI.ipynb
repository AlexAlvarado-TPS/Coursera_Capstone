{
    "nbformat_minor": 2, 
    "cells": [
        {
            "source": "<a href=\"https://www.coursera.org/learn/applied-data-science-capstone/\"><img src = \"https://seetorontonow.mx/uploads/2018/01/kayak-on-lake-ontario-looking-at-toronto-skyline.jpg\" width = 500> </a>\n\n<h1 align=center><font size = 5>Segmenting and Clustering Neighborhoods in Toronto</font></h1>\n<h1 align=center><font size = 4>By Miguel Lira Vidrio</font></h1>\n<h1 align=center><font size = 2.5>For Coursera Applied Data Science Capstone</font></h1>", 
            "cell_type": "markdown", 
            "metadata": {}
        }, 
        {
            "source": "## Introduction\nIn this notebook is presented a work around Toronto Neighborhoods to understand their characteristics and segmenting them.\nThe neighborhoods information was obteined from Wikipedia (https://en.wikipedia.org/wiki/List_of_postal_codes_of_Canada:_M) and grouping by Postalcode. Also the geo coordinates was added to each Postalcode. The Foursquare API was used to get venues around of the PostalCode Coordinates. With the collected information a dataframe was built and included top 10 venues categories for each postalcode, venues density per square meters. Finally we applied a kmeans algorithm.  ", 
            "cell_type": "markdown", 
            "metadata": {}
        }, 
        {
            "source": "## Table of Contents\n\n<div class=\"alert alert-block alert-info\" style=\"margin-top: 20px\">\n\n<font size = 3>\n\n1. <a href=\"#item1\">Create Toronto Neighborhoods Dataframe</a>\n\n2. <a href=\"#item2\">Get PostalCode Coordinates</a>\n\n3. <a href=\"#item3\">Get Venues from Foursquare API</a>\n\n4. <a href=\"#item4\">Cluster Neighborhoods</a>\n\n5. <a href=\"#item5\">Examine Results</a>    \n</font>\n</div>", 
            "cell_type": "markdown", 
            "metadata": {}
        }, 
        {
            "source": "##### Install and import libraries:", 
            "cell_type": "markdown", 
            "metadata": {}
        }, 
        {
            "execution_count": 1, 
            "cell_type": "code", 
            "metadata": {}, 
            "outputs": [
                {
                    "output_type": "stream", 
                    "name": "stdout", 
                    "text": "Requirement already satisfied: tensorflow in /opt/conda/envs/DSX-Python35/lib/python3.5/site-packages (1.3.0)\nRequirement already satisfied: wheel>=0.26 in /opt/conda/envs/DSX-Python35/lib/python3.5/site-packages (from tensorflow) (0.29.0)\nRequirement already satisfied: tensorflow-tensorboard<0.2.0,>=0.1.0 in /opt/conda/envs/DSX-Python35/lib/python3.5/site-packages (from tensorflow) (0.1.8)\nRequirement already satisfied: numpy>=1.11.0 in /opt/conda/envs/DSX-Python35/lib/python3.5/site-packages (from tensorflow) (1.13.3)\nRequirement already satisfied: protobuf>=3.3.0 in /opt/conda/envs/DSX-Python35/lib/python3.5/site-packages (from tensorflow) (3.4.1)\nRequirement already satisfied: six>=1.10.0 in /opt/conda/envs/DSX-Python35/lib/python3.5/site-packages (from tensorflow) (1.11.0)\nRequirement already satisfied: html5lib==0.9999999 in /opt/conda/envs/DSX-Python35/lib/python3.5/site-packages (from tensorflow-tensorboard<0.2.0,>=0.1.0->tensorflow) (0.9999999)\nRequirement already satisfied: markdown>=2.6.8 in /opt/conda/envs/DSX-Python35/lib/python3.5/site-packages (from tensorflow-tensorboard<0.2.0,>=0.1.0->tensorflow) (2.6.9)\nRequirement already satisfied: werkzeug>=0.11.10 in /opt/conda/envs/DSX-Python35/lib/python3.5/site-packages (from tensorflow-tensorboard<0.2.0,>=0.1.0->tensorflow) (0.12.2)\nRequirement already satisfied: bleach==1.5.0 in /opt/conda/envs/DSX-Python35/lib/python3.5/site-packages (from tensorflow-tensorboard<0.2.0,>=0.1.0->tensorflow) (1.5.0)\nRequirement already satisfied: setuptools in /opt/conda/envs/DSX-Python35/lib/python3.5/site-packages (from protobuf>=3.3.0->tensorflow) (36.5.0.post20170921)\nRequirement already satisfied: geopy in /opt/conda/envs/DSX-Python35/lib/python3.5/site-packages (1.11.0)\nRequirement already satisfied: folium in /opt/conda/envs/DSX-Python35/lib/python3.5/site-packages (0.9.1)\nRequirement already satisfied: requests in /opt/conda/envs/DSX-Python35/lib/python3.5/site-packages (from folium) (2.18.4)\nRequirement already satisfied: branca>=0.3.0 in /opt/conda/envs/DSX-Python35/lib/python3.5/site-packages (from folium) (0.3.1)\nRequirement already satisfied: jinja2>=2.9 in /opt/conda/envs/DSX-Python35/lib/python3.5/site-packages (from folium) (2.9.6)\nRequirement already satisfied: numpy in /opt/conda/envs/DSX-Python35/lib/python3.5/site-packages (from folium) (1.13.3)\nRequirement already satisfied: chardet<3.1.0,>=3.0.2 in /opt/conda/envs/DSX-Python35/lib/python3.5/site-packages (from requests->folium) (3.0.4)\nRequirement already satisfied: idna<2.7,>=2.5 in /opt/conda/envs/DSX-Python35/lib/python3.5/site-packages (from requests->folium) (2.6)\nRequirement already satisfied: urllib3<1.23,>=1.21.1 in /opt/conda/envs/DSX-Python35/lib/python3.5/site-packages (from requests->folium) (1.22)\nRequirement already satisfied: certifi>=2017.4.17 in /opt/conda/envs/DSX-Python35/lib/python3.5/site-packages (from requests->folium) (2019.3.9)\nRequirement already satisfied: six in /opt/conda/envs/DSX-Python35/lib/python3.5/site-packages (from branca>=0.3.0->folium) (1.11.0)\nRequirement already satisfied: MarkupSafe>=0.23 in /opt/conda/envs/DSX-Python35/lib/python3.5/site-packages (from jinja2>=2.9->folium) (1.0)\nRequirement already satisfied: bs4 in /opt/conda/envs/DSX-Python35/lib/python3.5/site-packages (0.0.1)\nRequirement already satisfied: beautifulsoup4 in /opt/conda/envs/DSX-Python35/lib/python3.5/site-packages (from bs4) (4.6.0)\nRequirement already satisfied: googlemaps in /opt/conda/envs/DSX-Python35/lib/python3.5/site-packages (3.0.2)\nRequirement already satisfied: requests<3.0,>=2.11.1 in /opt/conda/envs/DSX-Python35/lib/python3.5/site-packages (from googlemaps) (2.18.4)\nRequirement already satisfied: chardet<3.1.0,>=3.0.2 in /opt/conda/envs/DSX-Python35/lib/python3.5/site-packages (from requests<3.0,>=2.11.1->googlemaps) (3.0.4)\nRequirement already satisfied: idna<2.7,>=2.5 in /opt/conda/envs/DSX-Python35/lib/python3.5/site-packages (from requests<3.0,>=2.11.1->googlemaps) (2.6)\nRequirement already satisfied: urllib3<1.23,>=1.21.1 in /opt/conda/envs/DSX-Python35/lib/python3.5/site-packages (from requests<3.0,>=2.11.1->googlemaps) (1.22)\nRequirement already satisfied: certifi>=2017.4.17 in /opt/conda/envs/DSX-Python35/lib/python3.5/site-packages (from requests<3.0,>=2.11.1->googlemaps) (2019.3.9)\nRequirement already satisfied: plotly in /opt/conda/envs/DSX-Python35/lib/python3.5/site-packages (3.10.0)\nRequirement already satisfied: decorator>=4.0.6 in /opt/conda/envs/DSX-Python35/lib/python3.5/site-packages (from plotly) (4.1.2)\nRequirement already satisfied: requests in /opt/conda/envs/DSX-Python35/lib/python3.5/site-packages (from plotly) (2.18.4)\nRequirement already satisfied: six in /opt/conda/envs/DSX-Python35/lib/python3.5/site-packages (from plotly) (1.11.0)\nRequirement already satisfied: retrying>=1.3.3 in /opt/conda/envs/DSX-Python35/lib/python3.5/site-packages (from plotly) (1.3.3)\nRequirement already satisfied: pytz in /opt/conda/envs/DSX-Python35/lib/python3.5/site-packages (from plotly) (2018.3)\nRequirement already satisfied: nbformat>=4.2 in /opt/conda/envs/DSX-Python35/lib/python3.5/site-packages (from plotly) (4.4.0)\nRequirement already satisfied: chardet<3.1.0,>=3.0.2 in /opt/conda/envs/DSX-Python35/lib/python3.5/site-packages (from requests->plotly) (3.0.4)\nRequirement already satisfied: idna<2.7,>=2.5 in /opt/conda/envs/DSX-Python35/lib/python3.5/site-packages (from requests->plotly) (2.6)\nRequirement already satisfied: urllib3<1.23,>=1.21.1 in /opt/conda/envs/DSX-Python35/lib/python3.5/site-packages (from requests->plotly) (1.22)\nRequirement already satisfied: certifi>=2017.4.17 in /opt/conda/envs/DSX-Python35/lib/python3.5/site-packages (from requests->plotly) (2019.3.9)\nRequirement already satisfied: ipython_genutils in /opt/conda/envs/DSX-Python35/lib/python3.5/site-packages (from nbformat>=4.2->plotly) (0.2.0)\nRequirement already satisfied: traitlets>=4.1 in /opt/conda/envs/DSX-Python35/lib/python3.5/site-packages (from nbformat>=4.2->plotly) (4.3.2)\nRequirement already satisfied: jsonschema!=2.5.0,>=2.4 in /opt/conda/envs/DSX-Python35/lib/python3.5/site-packages (from nbformat>=4.2->plotly) (2.6.0)\nRequirement already satisfied: jupyter_core in /opt/conda/envs/DSX-Python35/lib/python3.5/site-packages (from nbformat>=4.2->plotly) (4.3.0)\nRequirement already satisfied: cufflinks in /opt/conda/envs/DSX-Python35/lib/python3.5/site-packages (0.15)\nRequirement already satisfied: setuptools>=34.4.1 in /opt/conda/envs/DSX-Python35/lib/python3.5/site-packages (from cufflinks) (36.5.0.post20170921)\nRequirement already satisfied: colorlover>=0.2.1 in /opt/conda/envs/DSX-Python35/lib/python3.5/site-packages (from cufflinks) (0.3.0)\nRequirement already satisfied: numpy>=1.9.2 in /opt/conda/envs/DSX-Python35/lib/python3.5/site-packages (from cufflinks) (1.13.3)\nRequirement already satisfied: six>=1.9.0 in /opt/conda/envs/DSX-Python35/lib/python3.5/site-packages (from cufflinks) (1.11.0)\nRequirement already satisfied: ipython>=5.3.0 in /opt/conda/envs/DSX-Python35/lib/python3.5/site-packages (from cufflinks) (6.1.0)\nRequirement already satisfied: pandas>=0.19.2 in /opt/conda/envs/DSX-Python35/lib/python3.5/site-packages (from cufflinks) (0.21.0)\nRequirement already satisfied: plotly>=3.0.0 in /opt/conda/envs/DSX-Python35/lib/python3.5/site-packages (from cufflinks) (3.10.0)\nRequirement already satisfied: ipywidgets>=7.0.0 in /opt/conda/envs/DSX-Python35/lib/python3.5/site-packages (from cufflinks) (7.1.1)\nRequirement already satisfied: jedi>=0.10 in /opt/conda/envs/DSX-Python35/lib/python3.5/site-packages (from ipython>=5.3.0->cufflinks) (0.10.2)\nRequirement already satisfied: decorator in /opt/conda/envs/DSX-Python35/lib/python3.5/site-packages (from ipython>=5.3.0->cufflinks) (4.1.2)\nRequirement already satisfied: pickleshare in /opt/conda/envs/DSX-Python35/lib/python3.5/site-packages (from ipython>=5.3.0->cufflinks) (0.7.4)\nRequirement already satisfied: simplegeneric>0.8 in /opt/conda/envs/DSX-Python35/lib/python3.5/site-packages (from ipython>=5.3.0->cufflinks) (0.8.1)\nRequirement already satisfied: traitlets>=4.2 in /opt/conda/envs/DSX-Python35/lib/python3.5/site-packages (from ipython>=5.3.0->cufflinks) (4.3.2)\nRequirement already satisfied: prompt_toolkit<2.0.0,>=1.0.4 in /opt/conda/envs/DSX-Python35/lib/python3.5/site-packages (from ipython>=5.3.0->cufflinks) (1.0.15)\nRequirement already satisfied: pygments in /opt/conda/envs/DSX-Python35/lib/python3.5/site-packages (from ipython>=5.3.0->cufflinks) (2.2.0)\nRequirement already satisfied: pexpect in /opt/conda/envs/DSX-Python35/lib/python3.5/site-packages (from ipython>=5.3.0->cufflinks) (4.2.1)\nRequirement already satisfied: python-dateutil>=2 in /opt/conda/envs/DSX-Python35/lib/python3.5/site-packages (from pandas>=0.19.2->cufflinks) (2.6.1)\nRequirement already satisfied: pytz>=2011k in /opt/conda/envs/DSX-Python35/lib/python3.5/site-packages (from pandas>=0.19.2->cufflinks) (2018.3)\nRequirement already satisfied: retrying>=1.3.3 in /opt/conda/envs/DSX-Python35/lib/python3.5/site-packages (from plotly>=3.0.0->cufflinks) (1.3.3)\nRequirement already satisfied: nbformat>=4.2 in /opt/conda/envs/DSX-Python35/lib/python3.5/site-packages (from plotly>=3.0.0->cufflinks) (4.4.0)\nRequirement already satisfied: requests in /opt/conda/envs/DSX-Python35/lib/python3.5/site-packages (from plotly>=3.0.0->cufflinks) (2.18.4)\nRequirement already satisfied: ipykernel>=4.5.1 in /opt/conda/envs/DSX-Python35/lib/python3.5/site-packages (from ipywidgets>=7.0.0->cufflinks) (4.8.2)\nRequirement already satisfied: widgetsnbextension~=3.1.0 in /opt/conda/envs/DSX-Python35/lib/python3.5/site-packages (from ipywidgets>=7.0.0->cufflinks) (3.1.0)\nRequirement already satisfied: ipython_genutils in /opt/conda/envs/DSX-Python35/lib/python3.5/site-packages (from traitlets>=4.2->ipython>=5.3.0->cufflinks) (0.2.0)\nRequirement already satisfied: wcwidth in /opt/conda/envs/DSX-Python35/lib/python3.5/site-packages (from prompt_toolkit<2.0.0,>=1.0.4->ipython>=5.3.0->cufflinks) (0.1.7)\nRequirement already satisfied: jsonschema!=2.5.0,>=2.4 in /opt/conda/envs/DSX-Python35/lib/python3.5/site-packages (from nbformat>=4.2->plotly>=3.0.0->cufflinks) (2.6.0)\nRequirement already satisfied: jupyter_core in /opt/conda/envs/DSX-Python35/lib/python3.5/site-packages (from nbformat>=4.2->plotly>=3.0.0->cufflinks) (4.3.0)\nRequirement already satisfied: chardet<3.1.0,>=3.0.2 in /opt/conda/envs/DSX-Python35/lib/python3.5/site-packages (from requests->plotly>=3.0.0->cufflinks) (3.0.4)\nRequirement already satisfied: idna<2.7,>=2.5 in /opt/conda/envs/DSX-Python35/lib/python3.5/site-packages (from requests->plotly>=3.0.0->cufflinks) (2.6)\nRequirement already satisfied: urllib3<1.23,>=1.21.1 in /opt/conda/envs/DSX-Python35/lib/python3.5/site-packages (from requests->plotly>=3.0.0->cufflinks) (1.22)\nRequirement already satisfied: certifi>=2017.4.17 in /opt/conda/envs/DSX-Python35/lib/python3.5/site-packages (from requests->plotly>=3.0.0->cufflinks) (2019.3.9)\nRequirement already satisfied: jupyter_client in /opt/conda/envs/DSX-Python35/lib/python3.5/site-packages (from ipykernel>=4.5.1->ipywidgets>=7.0.0->cufflinks) (5.1.0)\nRequirement already satisfied: tornado>=4.0 in /opt/conda/envs/DSX-Python35/lib/python3.5/site-packages (from ipykernel>=4.5.1->ipywidgets>=7.0.0->cufflinks) (4.5.2)\nRequirement already satisfied: notebook>=4.4.1 in /opt/conda/envs/DSX-Python35/lib/python3.5/site-packages (from widgetsnbextension~=3.1.0->ipywidgets>=7.0.0->cufflinks) (5.2.1)\nRequirement already satisfied: pyzmq>=13 in /opt/conda/envs/DSX-Python35/lib/python3.5/site-packages (from jupyter_client->ipykernel>=4.5.1->ipywidgets>=7.0.0->cufflinks) (17.0.0)\n"
                }
            ], 
            "source": "\n!pip install tensorflow\n!pip install geopy\n!pip install folium\n!pip install bs4\n!pip install googlemaps\n!pip install plotly\n!pip install cufflinks"
        }, 
        {
            "execution_count": 2, 
            "cell_type": "code", 
            "metadata": {}, 
            "outputs": [
                {
                    "output_type": "stream", 
                    "name": "stdout", 
                    "text": "Libraries are correctly imported\n"
                }
            ], 
            "source": "import requests # library to handle requests\nimport pandas as pd # library for data analsysis\nimport numpy as np # library to handle data in a vectorized manner\nimport random # library for random number generation\nfrom geopy.geocoders import Nominatim # module to convert an address into latitude and longitude values\npd.set_option('display.max_columns', None)\npd.set_option('display.max_rows', None)\n# libraries for displaying images\nfrom IPython.display import Image \nfrom IPython.core.display import HTML \n    \n# tranforming json file into a pandas dataframe library\nimport json\nfrom pandas.io.json import json_normalize\nimport folium # plotting library\nfrom bs4 import BeautifulSoup #Library to scraping info. from a web portal such a wikipedia.\n\n\nprint('Libraries are correctly imported')"
        }, 
        {
            "source": "## 1. Create Toronto Neighborhoods DataFrame", 
            "cell_type": "markdown", 
            "metadata": {}
        }, 
        {
            "source": "The Toronto Neighborhoods information is available in the following Wikipedia Page: https://en.wikipedia.org/wiki/List_of_postal_codes_of_Canada:_M \nBeautifulScrape was used to scrape the table content. A pandas dataframe was built from content in order to know which Neighborhoods belongs to a PostalCode and Borough with the follow structure:\n<img src=\"https://d3c33hcgiwev3.cloudfront.net/imageAssetProxy.v1/7JXaz3NNEeiMwApe4i-fLg_40e690ae0e927abda2d4bde7d94ed133_Screen-Shot-2018-06-18-at-7.17.57-PM.png?expiry=1559779200000&hmac=dyAVJgKU6e2BrXIIHUTkjX3L4kgDdkzjFF2IEV6tmP4\" width = 400>", 
            "cell_type": "markdown", 
            "metadata": {}
        }, 
        {
            "source": "In the table on the Wikipedia page, is possible see that M5A is listed twice and has two neighborhoods: Harbourfront and Regent Park. For our purpuse these two rows was combined into one row with the neighborhoods separated with a comma as shown in row 11 in the above table.\n\nAlso the Wikipedia table has PostalCode with Not assigned Boroughs and Neighborhoods. The analysis required process the cells that had an assigned borough. When a PostalCode had borough but a Not assigned neighborhood, the neighborhood was replaced with borough name. \n\nIn the next cells the code to create the desire dataframe is presented.\n", 
            "cell_type": "markdown", 
            "metadata": {}
        }, 
        {
            "source": "1) Toronto Neighborhood Data from Wikipedia was processed to a Dataframe.", 
            "cell_type": "markdown", 
            "metadata": {}
        }, 
        {
            "execution_count": 3, 
            "cell_type": "code", 
            "metadata": {}, 
            "outputs": [], 
            "source": "#Scrape content from Wikipedia table:\nurl=requests.get(\"https://en.wikipedia.org/wiki/List_of_postal_codes_of_Canada:_M\").text\nsoup=BeautifulSoup(url,\"html.parser\")\ntb = soup.find('table', class_='wikitable')\nrows = tb.find_all('tr')\nl = []\nfor tr in rows:\n    td = tr.find_all('td')\n    row = [tr.text for tr in td]\n    l.append(row)\n#Create a pandas dataframe: \ntoronto_df=pd.DataFrame(l, columns=[\"PostalCode\", \"Borough\",\"Neighborhood\"])\ntoronto_df=toronto_df.drop([0])\ntoronto_df=toronto_df.reset_index(drop=True)\n#Replace dirty string:\ntoronto_df[\"Neighborhood\"]=toronto_df[\"Neighborhood\"].str.replace('\\n', '')"
        }, 
        {
            "source": "2) Only assigned Boroughs were selected. All \"Not assigned\" Neighborhood records were replaced with the correspondent Borough name.", 
            "cell_type": "markdown", 
            "metadata": {}
        }, 
        {
            "execution_count": 4, 
            "cell_type": "code", 
            "metadata": {}, 
            "outputs": [], 
            "source": "totalPost=toronto_df[\"PostalCode\"].unique().shape[0]\ntoronto_df=toronto_df.loc[toronto_df[\"Borough\"]!=\"Not assigned\"]\nindex=toronto_df.loc[toronto_df[\"Neighborhood\"]==\"Not assigned\"].index.values.astype(int)\nfor i in index:\n    toronto_df.at[i, 'Neighborhood'] = toronto_df.at[i, 'Borough']\nPC=toronto_df[\"PostalCode\"].unique().shape[0]\nPC_na_Boroughs=totalPost-PC"
        }, 
        {
            "source": "3) Adjusted DataFrame to contains Borough, Postalcode and a list of related Neighborhoods separated with coma.", 
            "cell_type": "markdown", 
            "metadata": {}
        }, 
        {
            "execution_count": 5, 
            "cell_type": "code", 
            "metadata": {}, 
            "outputs": [], 
            "source": "toronto_df=toronto_df.groupby([\"PostalCode\", \"Borough\"])[\"Neighborhood\"].apply(lambda x:\"%s\" % \", \".join(x)).to_frame()\ntoronto_df.reset_index(level=1, inplace=True)\ntoronto_df.reset_index(level=0, inplace=True)"
        }, 
        {
            "source": "4) In the follow cell the results from the code are presented:", 
            "cell_type": "markdown", 
            "metadata": {}
        }, 
        {
            "execution_count": 6, 
            "cell_type": "code", 
            "metadata": {}, 
            "outputs": [
                {
                    "output_type": "stream", 
                    "name": "stdout", 
                    "text": "At the beginning we had: 180 Postalcodes.\nA total of 77 PostalCodes was discarded.\nOnly 1 Neighborhoods was replaced with the Borough Name.\nThe final shape of our dataframe is (103, 3)\n"
                }
            ], 
            "source": "print(\"At the beginning we had: {} Postalcodes.\".format(totalPost))\nprint('A total of {} PostalCodes was discarded.'.format(PC_na_Boroughs))\nprint(\"Only {} Neighborhoods was replaced with the Borough Name.\".format(index.shape[0]))\nprint(\"The final shape of our dataframe is {}\".format(toronto_df.shape))"
        }, 
        {
            "execution_count": 7, 
            "cell_type": "code", 
            "metadata": {}, 
            "outputs": [
                {
                    "execution_count": 7, 
                    "metadata": {}, 
                    "data": {
                        "text/html": "<div>\n<style scoped>\n    .dataframe tbody tr th:only-of-type {\n        vertical-align: middle;\n    }\n\n    .dataframe tbody tr th {\n        vertical-align: top;\n    }\n\n    .dataframe thead th {\n        text-align: right;\n    }\n</style>\n<table border=\"1\" class=\"dataframe\">\n  <thead>\n    <tr style=\"text-align: right;\">\n      <th></th>\n      <th>PostalCode</th>\n      <th>Borough</th>\n      <th>Neighborhood</th>\n    </tr>\n  </thead>\n  <tbody>\n    <tr>\n      <th>93</th>\n      <td>M9A</td>\n      <td>Etobicoke</td>\n      <td>Islington Avenue</td>\n    </tr>\n    <tr>\n      <th>10</th>\n      <td>M1P</td>\n      <td>Scarborough</td>\n      <td>Dorset Park, Scarborough Town Centre, Wexford ...</td>\n    </tr>\n    <tr>\n      <th>79</th>\n      <td>M6L</td>\n      <td>North York</td>\n      <td>Downsview, North Park, Upwood Park</td>\n    </tr>\n    <tr>\n      <th>35</th>\n      <td>M4B</td>\n      <td>East York</td>\n      <td>Woodbine Gardens, Parkview Hill</td>\n    </tr>\n    <tr>\n      <th>68</th>\n      <td>M5V</td>\n      <td>Downtown Toronto</td>\n      <td>CN Tower, Bathurst Quay, Island airport, Harbo...</td>\n    </tr>\n    <tr>\n      <th>75</th>\n      <td>M6G</td>\n      <td>Downtown Toronto</td>\n      <td>Christie</td>\n    </tr>\n    <tr>\n      <th>76</th>\n      <td>M6H</td>\n      <td>West Toronto</td>\n      <td>Dovercourt Village, Dufferin</td>\n    </tr>\n    <tr>\n      <th>36</th>\n      <td>M4C</td>\n      <td>East York</td>\n      <td>Woodbine Heights</td>\n    </tr>\n    <tr>\n      <th>49</th>\n      <td>M4V</td>\n      <td>Central Toronto</td>\n      <td>Deer Park, Forest Hill SE, Rathnelly, South Hi...</td>\n    </tr>\n    <tr>\n      <th>11</th>\n      <td>M1R</td>\n      <td>Scarborough</td>\n      <td>Maryvale, Wexford</td>\n    </tr>\n  </tbody>\n</table>\n</div>", 
                        "text/plain": "   PostalCode           Borough  \\\n93        M9A         Etobicoke   \n10        M1P       Scarborough   \n79        M6L        North York   \n35        M4B         East York   \n68        M5V  Downtown Toronto   \n75        M6G  Downtown Toronto   \n76        M6H      West Toronto   \n36        M4C         East York   \n49        M4V   Central Toronto   \n11        M1R       Scarborough   \n\n                                         Neighborhood  \n93                                   Islington Avenue  \n10  Dorset Park, Scarborough Town Centre, Wexford ...  \n79                 Downsview, North Park, Upwood Park  \n35                    Woodbine Gardens, Parkview Hill  \n68  CN Tower, Bathurst Quay, Island airport, Harbo...  \n75                                           Christie  \n76                       Dovercourt Village, Dufferin  \n36                                   Woodbine Heights  \n49  Deer Park, Forest Hill SE, Rathnelly, South Hi...  \n11                                  Maryvale, Wexford  "
                    }, 
                    "output_type": "execute_result"
                }
            ], 
            "source": "toronto_df.sample(n=10)"
        }, 
        {
            "source": "This work continiues in the part II...", 
            "cell_type": "markdown", 
            "metadata": {}
        }
    ], 
    "metadata": {
        "kernelspec": {
            "display_name": "Python 3.5", 
            "name": "python3", 
            "language": "python"
        }, 
        "language_info": {
            "mimetype": "text/x-python", 
            "nbconvert_exporter": "python", 
            "version": "3.5.5", 
            "name": "python", 
            "file_extension": ".py", 
            "pygments_lexer": "ipython3", 
            "codemirror_mode": {
                "version": 3, 
                "name": "ipython"
            }
        }
    }, 
    "nbformat": 4
}