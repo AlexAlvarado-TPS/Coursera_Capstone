{
    "nbformat_minor": 2, 
    "cells": [
        {
            "source": "<a href=\"https://www.coursera.org/learn/applied-data-science-capstone/\"><img src = \"https://seetorontonow.mx/uploads/2018/01/kayak-on-lake-ontario-looking-at-toronto-skyline.jpg\" width = 500> </a>\n\n<h1 align=center><font size = 5>Segmenting and Clustering Neighborhoods in Toronto</font></h1>\n<h1 align=center><font size = 4>By Miguel Lira Vidrio</font></h1>\n<h1 align=center><font size = 2.5>For Coursera Applied Data Science Capstone</font></h1>", 
            "cell_type": "markdown", 
            "metadata": {}
        }, 
        {
            "source": "## Introduction\nIn this notebook is presented a work around Toronto Neighborhoods to understand their characteristics and segmenting them.\nThe neighborhoods information was obteined from Wikipedia (https://en.wikipedia.org/wiki/List_of_postal_codes_of_Canada:_M) and grouping by Postalcode. Also the geo coordinates was added to each Postalcode. The Foursquare API was used to get venues around of the PostalCode Coordinates. With the collected information a dataframe was built and included top 10 venues categories for each postalcode, venues density per square meters. Finally we applied a kmeans algorithm.  ", 
            "cell_type": "markdown", 
            "metadata": {}
        }, 
        {
            "source": "## Table of Contents\n\n<div class=\"alert alert-block alert-info\" style=\"margin-top: 20px\">\n\n<font size = 3>\n\n1. <a href=\"#item1\">Create Toronto Neighborhoods Dataframe</a>\n\n2. <a href=\"#item2\">Get PostalCode Coordinates</a>\n\n3. <a href=\"#item3\">Get Venues from Foursquare API</a>\n\n4. <a href=\"#item4\">Cluster Neighborhoods</a>\n\n5. <a href=\"#item5\">Examine Results</a>    \n</font>\n</div>", 
            "cell_type": "markdown", 
            "metadata": {}
        }, 
        {
            "source": "##### Install and import libraries:", 
            "cell_type": "markdown", 
            "metadata": {}
        }, 
        {
            "execution_count": 1, 
            "cell_type": "code", 
            "metadata": {}, 
            "outputs": [
                {
                    "output_type": "stream", 
                    "name": "stdout", 
                    "text": "Requirement already satisfied: tensorflow in /opt/conda/envs/DSX-Python35/lib/python3.5/site-packages (1.3.0)\nRequirement already satisfied: six>=1.10.0 in /opt/conda/envs/DSX-Python35/lib/python3.5/site-packages (from tensorflow) (1.11.0)\nRequirement already satisfied: tensorflow-tensorboard<0.2.0,>=0.1.0 in /opt/conda/envs/DSX-Python35/lib/python3.5/site-packages (from tensorflow) (0.1.8)\nRequirement already satisfied: wheel>=0.26 in /opt/conda/envs/DSX-Python35/lib/python3.5/site-packages (from tensorflow) (0.29.0)\nRequirement already satisfied: protobuf>=3.3.0 in /opt/conda/envs/DSX-Python35/lib/python3.5/site-packages (from tensorflow) (3.4.1)\nRequirement already satisfied: numpy>=1.11.0 in /opt/conda/envs/DSX-Python35/lib/python3.5/site-packages (from tensorflow) (1.13.3)\nRequirement already satisfied: markdown>=2.6.8 in /opt/conda/envs/DSX-Python35/lib/python3.5/site-packages (from tensorflow-tensorboard<0.2.0,>=0.1.0->tensorflow) (2.6.9)\nRequirement already satisfied: bleach==1.5.0 in /opt/conda/envs/DSX-Python35/lib/python3.5/site-packages (from tensorflow-tensorboard<0.2.0,>=0.1.0->tensorflow) (1.5.0)\nRequirement already satisfied: html5lib==0.9999999 in /opt/conda/envs/DSX-Python35/lib/python3.5/site-packages (from tensorflow-tensorboard<0.2.0,>=0.1.0->tensorflow) (0.9999999)\nRequirement already satisfied: werkzeug>=0.11.10 in /opt/conda/envs/DSX-Python35/lib/python3.5/site-packages (from tensorflow-tensorboard<0.2.0,>=0.1.0->tensorflow) (0.12.2)\nRequirement already satisfied: setuptools in /opt/conda/envs/DSX-Python35/lib/python3.5/site-packages (from protobuf>=3.3.0->tensorflow) (36.5.0.post20170921)\nRequirement already satisfied: geopy in /opt/conda/envs/DSX-Python35/lib/python3.5/site-packages (1.11.0)\nRequirement already satisfied: folium in /opt/conda/envs/DSX-Python35/lib/python3.5/site-packages (0.9.1)\nRequirement already satisfied: jinja2>=2.9 in /opt/conda/envs/DSX-Python35/lib/python3.5/site-packages (from folium) (2.9.6)\nRequirement already satisfied: branca>=0.3.0 in /opt/conda/envs/DSX-Python35/lib/python3.5/site-packages (from folium) (0.3.1)\nRequirement already satisfied: numpy in /opt/conda/envs/DSX-Python35/lib/python3.5/site-packages (from folium) (1.13.3)\nRequirement already satisfied: requests in /opt/conda/envs/DSX-Python35/lib/python3.5/site-packages (from folium) (2.18.4)\nRequirement already satisfied: MarkupSafe>=0.23 in /opt/conda/envs/DSX-Python35/lib/python3.5/site-packages (from jinja2>=2.9->folium) (1.0)\nRequirement already satisfied: six in /opt/conda/envs/DSX-Python35/lib/python3.5/site-packages (from branca>=0.3.0->folium) (1.11.0)\nRequirement already satisfied: chardet<3.1.0,>=3.0.2 in /opt/conda/envs/DSX-Python35/lib/python3.5/site-packages (from requests->folium) (3.0.4)\nRequirement already satisfied: idna<2.7,>=2.5 in /opt/conda/envs/DSX-Python35/lib/python3.5/site-packages (from requests->folium) (2.6)\nRequirement already satisfied: urllib3<1.23,>=1.21.1 in /opt/conda/envs/DSX-Python35/lib/python3.5/site-packages (from requests->folium) (1.22)\nRequirement already satisfied: certifi>=2017.4.17 in /opt/conda/envs/DSX-Python35/lib/python3.5/site-packages (from requests->folium) (2019.3.9)\nRequirement already satisfied: bs4 in /opt/conda/envs/DSX-Python35/lib/python3.5/site-packages (0.0.1)\nRequirement already satisfied: beautifulsoup4 in /opt/conda/envs/DSX-Python35/lib/python3.5/site-packages (from bs4) (4.6.0)\nRequirement already satisfied: googlemaps in /opt/conda/envs/DSX-Python35/lib/python3.5/site-packages (3.0.2)\nRequirement already satisfied: requests<3.0,>=2.11.1 in /opt/conda/envs/DSX-Python35/lib/python3.5/site-packages (from googlemaps) (2.18.4)\nRequirement already satisfied: chardet<3.1.0,>=3.0.2 in /opt/conda/envs/DSX-Python35/lib/python3.5/site-packages (from requests<3.0,>=2.11.1->googlemaps) (3.0.4)\nRequirement already satisfied: idna<2.7,>=2.5 in /opt/conda/envs/DSX-Python35/lib/python3.5/site-packages (from requests<3.0,>=2.11.1->googlemaps) (2.6)\nRequirement already satisfied: urllib3<1.23,>=1.21.1 in /opt/conda/envs/DSX-Python35/lib/python3.5/site-packages (from requests<3.0,>=2.11.1->googlemaps) (1.22)\nRequirement already satisfied: certifi>=2017.4.17 in /opt/conda/envs/DSX-Python35/lib/python3.5/site-packages (from requests<3.0,>=2.11.1->googlemaps) (2019.3.9)\nRequirement already satisfied: plotly in /opt/conda/envs/DSX-Python35/lib/python3.5/site-packages (3.10.0)\nRequirement already satisfied: six in /opt/conda/envs/DSX-Python35/lib/python3.5/site-packages (from plotly) (1.11.0)\nRequirement already satisfied: retrying>=1.3.3 in /opt/conda/envs/DSX-Python35/lib/python3.5/site-packages (from plotly) (1.3.3)\nRequirement already satisfied: nbformat>=4.2 in /opt/conda/envs/DSX-Python35/lib/python3.5/site-packages (from plotly) (4.4.0)\nRequirement already satisfied: requests in /opt/conda/envs/DSX-Python35/lib/python3.5/site-packages (from plotly) (2.18.4)\nRequirement already satisfied: decorator>=4.0.6 in /opt/conda/envs/DSX-Python35/lib/python3.5/site-packages (from plotly) (4.1.2)\nRequirement already satisfied: pytz in /opt/conda/envs/DSX-Python35/lib/python3.5/site-packages (from plotly) (2018.3)\nRequirement already satisfied: ipython_genutils in /opt/conda/envs/DSX-Python35/lib/python3.5/site-packages (from nbformat>=4.2->plotly) (0.2.0)\nRequirement already satisfied: traitlets>=4.1 in /opt/conda/envs/DSX-Python35/lib/python3.5/site-packages (from nbformat>=4.2->plotly) (4.3.2)\nRequirement already satisfied: jsonschema!=2.5.0,>=2.4 in /opt/conda/envs/DSX-Python35/lib/python3.5/site-packages (from nbformat>=4.2->plotly) (2.6.0)\nRequirement already satisfied: jupyter_core in /opt/conda/envs/DSX-Python35/lib/python3.5/site-packages (from nbformat>=4.2->plotly) (4.3.0)\nRequirement already satisfied: chardet<3.1.0,>=3.0.2 in /opt/conda/envs/DSX-Python35/lib/python3.5/site-packages (from requests->plotly) (3.0.4)\nRequirement already satisfied: idna<2.7,>=2.5 in /opt/conda/envs/DSX-Python35/lib/python3.5/site-packages (from requests->plotly) (2.6)\nRequirement already satisfied: urllib3<1.23,>=1.21.1 in /opt/conda/envs/DSX-Python35/lib/python3.5/site-packages (from requests->plotly) (1.22)\nRequirement already satisfied: certifi>=2017.4.17 in /opt/conda/envs/DSX-Python35/lib/python3.5/site-packages (from requests->plotly) (2019.3.9)\nRequirement already satisfied: cufflinks in /opt/conda/envs/DSX-Python35/lib/python3.5/site-packages (0.15)\nRequirement already satisfied: pandas>=0.19.2 in /opt/conda/envs/DSX-Python35/lib/python3.5/site-packages (from cufflinks) (0.21.0)\nRequirement already satisfied: colorlover>=0.2.1 in /opt/conda/envs/DSX-Python35/lib/python3.5/site-packages (from cufflinks) (0.3.0)\nRequirement already satisfied: ipywidgets>=7.0.0 in /opt/conda/envs/DSX-Python35/lib/python3.5/site-packages (from cufflinks) (7.1.1)\nRequirement already satisfied: setuptools>=34.4.1 in /opt/conda/envs/DSX-Python35/lib/python3.5/site-packages (from cufflinks) (36.5.0.post20170921)\nRequirement already satisfied: numpy>=1.9.2 in /opt/conda/envs/DSX-Python35/lib/python3.5/site-packages (from cufflinks) (1.13.3)\nRequirement already satisfied: six>=1.9.0 in /opt/conda/envs/DSX-Python35/lib/python3.5/site-packages (from cufflinks) (1.11.0)\nRequirement already satisfied: ipython>=5.3.0 in /opt/conda/envs/DSX-Python35/lib/python3.5/site-packages (from cufflinks) (6.1.0)\nRequirement already satisfied: plotly>=3.0.0 in /opt/conda/envs/DSX-Python35/lib/python3.5/site-packages (from cufflinks) (3.10.0)\nRequirement already satisfied: python-dateutil>=2 in /opt/conda/envs/DSX-Python35/lib/python3.5/site-packages (from pandas>=0.19.2->cufflinks) (2.6.1)\nRequirement already satisfied: pytz>=2011k in /opt/conda/envs/DSX-Python35/lib/python3.5/site-packages (from pandas>=0.19.2->cufflinks) (2018.3)\nRequirement already satisfied: ipykernel>=4.5.1 in /opt/conda/envs/DSX-Python35/lib/python3.5/site-packages (from ipywidgets>=7.0.0->cufflinks) (4.8.2)\nRequirement already satisfied: traitlets>=4.3.1 in /opt/conda/envs/DSX-Python35/lib/python3.5/site-packages (from ipywidgets>=7.0.0->cufflinks) (4.3.2)\nRequirement already satisfied: nbformat>=4.2.0 in /opt/conda/envs/DSX-Python35/lib/python3.5/site-packages (from ipywidgets>=7.0.0->cufflinks) (4.4.0)\nRequirement already satisfied: widgetsnbextension~=3.1.0 in /opt/conda/envs/DSX-Python35/lib/python3.5/site-packages (from ipywidgets>=7.0.0->cufflinks) (3.1.0)\nRequirement already satisfied: jedi>=0.10 in /opt/conda/envs/DSX-Python35/lib/python3.5/site-packages (from ipython>=5.3.0->cufflinks) (0.10.2)\nRequirement already satisfied: decorator in /opt/conda/envs/DSX-Python35/lib/python3.5/site-packages (from ipython>=5.3.0->cufflinks) (4.1.2)\nRequirement already satisfied: pickleshare in /opt/conda/envs/DSX-Python35/lib/python3.5/site-packages (from ipython>=5.3.0->cufflinks) (0.7.4)\nRequirement already satisfied: simplegeneric>0.8 in /opt/conda/envs/DSX-Python35/lib/python3.5/site-packages (from ipython>=5.3.0->cufflinks) (0.8.1)\nRequirement already satisfied: prompt_toolkit<2.0.0,>=1.0.4 in /opt/conda/envs/DSX-Python35/lib/python3.5/site-packages (from ipython>=5.3.0->cufflinks) (1.0.15)\nRequirement already satisfied: pygments in /opt/conda/envs/DSX-Python35/lib/python3.5/site-packages (from ipython>=5.3.0->cufflinks) (2.2.0)\nRequirement already satisfied: pexpect in /opt/conda/envs/DSX-Python35/lib/python3.5/site-packages (from ipython>=5.3.0->cufflinks) (4.2.1)\nRequirement already satisfied: requests in /opt/conda/envs/DSX-Python35/lib/python3.5/site-packages (from plotly>=3.0.0->cufflinks) (2.18.4)\nRequirement already satisfied: retrying>=1.3.3 in /opt/conda/envs/DSX-Python35/lib/python3.5/site-packages (from plotly>=3.0.0->cufflinks) (1.3.3)\nRequirement already satisfied: jupyter_client in /opt/conda/envs/DSX-Python35/lib/python3.5/site-packages (from ipykernel>=4.5.1->ipywidgets>=7.0.0->cufflinks) (5.1.0)\nRequirement already satisfied: tornado>=4.0 in /opt/conda/envs/DSX-Python35/lib/python3.5/site-packages (from ipykernel>=4.5.1->ipywidgets>=7.0.0->cufflinks) (4.5.2)\r\nRequirement already satisfied: ipython_genutils in /opt/conda/envs/DSX-Python35/lib/python3.5/site-packages (from traitlets>=4.3.1->ipywidgets>=7.0.0->cufflinks) (0.2.0)\r\nRequirement already satisfied: jsonschema!=2.5.0,>=2.4 in /opt/conda/envs/DSX-Python35/lib/python3.5/site-packages (from nbformat>=4.2.0->ipywidgets>=7.0.0->cufflinks) (2.6.0)\r\nRequirement already satisfied: jupyter_core in /opt/conda/envs/DSX-Python35/lib/python3.5/site-packages (from nbformat>=4.2.0->ipywidgets>=7.0.0->cufflinks) (4.3.0)\r\nRequirement already satisfied: notebook>=4.4.1 in /opt/conda/envs/DSX-Python35/lib/python3.5/site-packages (from widgetsnbextension~=3.1.0->ipywidgets>=7.0.0->cufflinks) (5.2.1)\r\nRequirement already satisfied: wcwidth in /opt/conda/envs/DSX-Python35/lib/python3.5/site-packages (from prompt_toolkit<2.0.0,>=1.0.4->ipython>=5.3.0->cufflinks) (0.1.7)\r\nRequirement already satisfied: chardet<3.1.0,>=3.0.2 in /opt/conda/envs/DSX-Python35/lib/python3.5/site-packages (from requests->plotly>=3.0.0->cufflinks) (3.0.4)\r\nRequirement already satisfied: idna<2.7,>=2.5 in /opt/conda/envs/DSX-Python35/lib/python3.5/site-packages (from requests->plotly>=3.0.0->cufflinks) (2.6)\r\nRequirement already satisfied: urllib3<1.23,>=1.21.1 in /opt/conda/envs/DSX-Python35/lib/python3.5/site-packages (from requests->plotly>=3.0.0->cufflinks) (1.22)\r\nRequirement already satisfied: certifi>=2017.4.17 in /opt/conda/envs/DSX-Python35/lib/python3.5/site-packages (from requests->plotly>=3.0.0->cufflinks) (2019.3.9)\r\nRequirement already satisfied: pyzmq>=13 in /opt/conda/envs/DSX-Python35/lib/python3.5/site-packages (from jupyter_client->ipykernel>=4.5.1->ipywidgets>=7.0.0->cufflinks) (17.0.0)\r\n"
                }
            ], 
            "source": "\n!pip install tensorflow\n!pip install geopy\n!pip install folium\n!pip install bs4\n!pip install googlemaps\n!pip install plotly\n!pip install cufflinks"
        }, 
        {
            "execution_count": 2, 
            "cell_type": "code", 
            "metadata": {}, 
            "outputs": [
                {
                    "output_type": "stream", 
                    "name": "stdout", 
                    "text": "Libraries are correctly imported\n"
                }
            ], 
            "source": "import requests # library to handle requests\nimport pandas as pd # library for data analsysis\nimport numpy as np # library to handle data in a vectorized manner\nimport random # library for random number generation\nfrom geopy.geocoders import Nominatim # module to convert an address into latitude and longitude values\npd.set_option('display.max_columns', None)\npd.set_option('display.max_rows', None)\n# libraries for displaying images\nfrom IPython.display import Image \nfrom IPython.core.display import HTML \n    \n# tranforming json file into a pandas dataframe library\nimport json\nfrom pandas.io.json import json_normalize\nimport folium # plotting library\nfrom bs4 import BeautifulSoup #Library to scraping info. from a web portal such a wikipedia.\n\n\nprint('Libraries are correctly imported')"
        }, 
        {
            "source": "## 1. Create Toronto Neighborhoods DataFrame", 
            "cell_type": "markdown", 
            "metadata": {}
        }, 
        {
            "source": "The Toronto Neighborhoods information is available in the following Wikipedia Page: https://en.wikipedia.org/wiki/List_of_postal_codes_of_Canada:_M \nBeautifulScrape was used to scrape the table content. A pandas dataframe was built from content in order to know which Neighborhoods belongs to a PostalCode and Borough with the follow structure:\n<img src=\"https://d3c33hcgiwev3.cloudfront.net/imageAssetProxy.v1/7JXaz3NNEeiMwApe4i-fLg_40e690ae0e927abda2d4bde7d94ed133_Screen-Shot-2018-06-18-at-7.17.57-PM.png?expiry=1559779200000&hmac=dyAVJgKU6e2BrXIIHUTkjX3L4kgDdkzjFF2IEV6tmP4\" width = 400>", 
            "cell_type": "markdown", 
            "metadata": {}
        }, 
        {
            "source": "In the table on the Wikipedia page, is possible see that M5A is listed twice and has two neighborhoods: Harbourfront and Regent Park. For our purpuse these two rows was combined into one row with the neighborhoods separated with a comma as shown in row 11 in the above table.\n\nAlso the Wikipedia table has PostalCode with Not assigned Boroughs and Neighborhoods. The analysis required process the cells that had an assigned borough. When a PostalCode had borough but a Not assigned neighborhood, the neighborhood was replaced with borough name. \n\nIn the next cells the code to create the desire dataframe is presented.\n", 
            "cell_type": "markdown", 
            "metadata": {}
        }, 
        {
            "source": "1) Toronto Neighborhood Data from Wikipedia was processed to a Dataframe.", 
            "cell_type": "markdown", 
            "metadata": {}
        }, 
        {
            "execution_count": 3, 
            "cell_type": "code", 
            "metadata": {}, 
            "outputs": [], 
            "source": "#Scrape content from Wikipedia table:\nurl=requests.get(\"https://en.wikipedia.org/wiki/List_of_postal_codes_of_Canada:_M\").text\nsoup=BeautifulSoup(url,\"html.parser\")\ntb = soup.find('table', class_='wikitable')\nrows = tb.find_all('tr')\nl = []\nfor tr in rows:\n    td = tr.find_all('td')\n    row = [tr.text for tr in td]\n    l.append(row)\n#Create a pandas dataframe: \ntoronto_df=pd.DataFrame(l, columns=[\"PostalCode\", \"Borough\",\"Neighborhood\"])\ntoronto_df=toronto_df.drop([0])\ntoronto_df=toronto_df.reset_index(drop=True)\n#Replace dirty string:\ntoronto_df[\"Neighborhood\"]=toronto_df[\"Neighborhood\"].str.replace('\\n', '')"
        }, 
        {
            "source": "2) Only assigned Boroughs were selected. All \"Not assigned\" Neighborhood records were replaced with the correspondent Borough name.", 
            "cell_type": "markdown", 
            "metadata": {}
        }, 
        {
            "execution_count": 4, 
            "cell_type": "code", 
            "metadata": {}, 
            "outputs": [], 
            "source": "totalPost=toronto_df[\"PostalCode\"].unique().shape[0]\ntoronto_df=toronto_df.loc[toronto_df[\"Borough\"]!=\"Not assigned\"]\nindex=toronto_df.loc[toronto_df[\"Neighborhood\"]==\"Not assigned\"].index.values.astype(int)\nfor i in index:\n    toronto_df.at[i, 'Neighborhood'] = toronto_df.at[i, 'Borough']\nPC=toronto_df[\"PostalCode\"].unique().shape[0]\nPC_na_Boroughs=totalPost-PC"
        }, 
        {
            "source": "3) Adjusted DataFrame to contains Borough, Postalcode and a list of related Neighborhoods separated with coma.", 
            "cell_type": "markdown", 
            "metadata": {}
        }, 
        {
            "execution_count": 5, 
            "cell_type": "code", 
            "metadata": {}, 
            "outputs": [], 
            "source": "toronto_df=toronto_df.groupby([\"PostalCode\", \"Borough\"])[\"Neighborhood\"].apply(lambda x:\"%s\" % \", \".join(x)).to_frame()\ntoronto_df.reset_index(level=1, inplace=True)\ntoronto_df.reset_index(level=0, inplace=True)"
        }, 
        {
            "source": "4) In the follow cell the results from the code are presented:", 
            "cell_type": "markdown", 
            "metadata": {}
        }, 
        {
            "execution_count": 6, 
            "cell_type": "code", 
            "metadata": {}, 
            "outputs": [
                {
                    "output_type": "stream", 
                    "name": "stdout", 
                    "text": "At the beginning we had: 180 Postalcodes.\nA total of 77 PostalCodes was discarded.\nOnly 1 Neighborhoods was replaced with the Borough Name.\nThe final shape of our dataframe is (103, 3)\n"
                }
            ], 
            "source": "print(\"At the beginning we had: {} Postalcodes.\".format(totalPost))\nprint('A total of {} PostalCodes was discarded.'.format(PC_na_Boroughs))\nprint(\"Only {} Neighborhoods was replaced with the Borough Name.\".format(index.shape[0]))\nprint(\"The final shape of our dataframe is {}\".format(toronto_df.shape))"
        }, 
        {
            "execution_count": 7, 
            "cell_type": "code", 
            "metadata": {}, 
            "outputs": [
                {
                    "execution_count": 7, 
                    "metadata": {}, 
                    "data": {
                        "text/html": "<div>\n<style scoped>\n    .dataframe tbody tr th:only-of-type {\n        vertical-align: middle;\n    }\n\n    .dataframe tbody tr th {\n        vertical-align: top;\n    }\n\n    .dataframe thead th {\n        text-align: right;\n    }\n</style>\n<table border=\"1\" class=\"dataframe\">\n  <thead>\n    <tr style=\"text-align: right;\">\n      <th></th>\n      <th>PostalCode</th>\n      <th>Borough</th>\n      <th>Neighborhood</th>\n    </tr>\n  </thead>\n  <tbody>\n    <tr>\n      <th>93</th>\n      <td>M9A</td>\n      <td>Etobicoke</td>\n      <td>Islington Avenue</td>\n    </tr>\n    <tr>\n      <th>52</th>\n      <td>M4Y</td>\n      <td>Downtown Toronto</td>\n      <td>Church and Wellesley</td>\n    </tr>\n    <tr>\n      <th>5</th>\n      <td>M1J</td>\n      <td>Scarborough</td>\n      <td>Scarborough Village</td>\n    </tr>\n    <tr>\n      <th>74</th>\n      <td>M6E</td>\n      <td>York</td>\n      <td>Caledonia-Fairbanks</td>\n    </tr>\n    <tr>\n      <th>69</th>\n      <td>M5W</td>\n      <td>Downtown Toronto</td>\n      <td>Stn A PO Boxes 25 The Esplanade</td>\n    </tr>\n    <tr>\n      <th>51</th>\n      <td>M4X</td>\n      <td>Downtown Toronto</td>\n      <td>Cabbagetown, St. James Town</td>\n    </tr>\n    <tr>\n      <th>47</th>\n      <td>M4S</td>\n      <td>Central Toronto</td>\n      <td>Davisville</td>\n    </tr>\n    <tr>\n      <th>12</th>\n      <td>M1S</td>\n      <td>Scarborough</td>\n      <td>Agincourt</td>\n    </tr>\n    <tr>\n      <th>3</th>\n      <td>M1G</td>\n      <td>Scarborough</td>\n      <td>Woburn</td>\n    </tr>\n    <tr>\n      <th>13</th>\n      <td>M1T</td>\n      <td>Scarborough</td>\n      <td>Clarks Corners, Sullivan, Tam O'Shanter</td>\n    </tr>\n  </tbody>\n</table>\n</div>", 
                        "text/plain": "   PostalCode           Borough                             Neighborhood\n93        M9A         Etobicoke                         Islington Avenue\n52        M4Y  Downtown Toronto                     Church and Wellesley\n5         M1J       Scarborough                      Scarborough Village\n74        M6E              York                      Caledonia-Fairbanks\n69        M5W  Downtown Toronto          Stn A PO Boxes 25 The Esplanade\n51        M4X  Downtown Toronto              Cabbagetown, St. James Town\n47        M4S   Central Toronto                               Davisville\n12        M1S       Scarborough                                Agincourt\n3         M1G       Scarborough                                   Woburn\n13        M1T       Scarborough  Clarks Corners, Sullivan, Tam O'Shanter"
                    }, 
                    "output_type": "execute_result"
                }
            ], 
            "source": "toronto_df.sample(n=10)"
        }, 
        {
            "source": "## 2. Get PostalCode Coordinates", 
            "cell_type": "markdown", 
            "metadata": {}
        }, 
        {
            "source": "The dataframe created with Wikipedia table content do not possess coordinates for every single PostalCode. Unfortunately, the foursquare API works better with coordinates.\nGooglemaps library was used to get latitude and longitude coordinates for each PostalCode. In the cells below the steps followed to get coordinates are presented.", 
            "cell_type": "markdown", 
            "metadata": {}
        }, 
        {
            "source": "<img src=\"data:image/png;base64,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\" width=100>", 
            "cell_type": "markdown", 
            "metadata": {}
        }, 
        {
            "source": "1) First the googlemaps library was added. Also in order to obtain better results in the location of coordinates directions variable was created.", 
            "cell_type": "markdown", 
            "metadata": {}
        }, 
        {
            "execution_count": 8, 
            "cell_type": "code", 
            "metadata": {}, 
            "outputs": [], 
            "source": "import googlemaps\ndirections=toronto_df[\"PostalCode\"]+ \", ONTARIO, CANADA\""
        }, 
        {
            "source": "2) The Google Cloud Secret Key was specified.", 
            "cell_type": "markdown", 
            "metadata": {}
        }, 
        {
            "execution_count": 9, 
            "cell_type": "code", 
            "metadata": {}, 
            "outputs": [], 
            "source": "# The code was removed by Watson Studio for sharing."
        }, 
        {
            "source": "3) Latitude and longitude were got from grocode API and added to the Toronto_Neighborhood Dataframe.", 
            "cell_type": "markdown", 
            "metadata": {}
        }, 
        {
            "execution_count": 10, 
            "cell_type": "code", 
            "metadata": {}, 
            "outputs": [], 
            "source": "gmaps = googlemaps.Client(key=my_key)\ni=len(directions)\nlat=np.zeros(i)\nlong=np.zeros(i)\nfor j in range(i):\n    direction=directions[j]\n    geocode_result = gmaps.geocode(direction)\n    lat[j]=geocode_result[0][\"geometry\"][\"location\"][\"lat\"]\n    long[j]=geocode_result[0][\"geometry\"][\"location\"][\"lng\"]\ntoronto_df[\"Latitude\"]=lat\ntoronto_df[\"Longitude\"]=long"
        }, 
        {
            "source": "4) In the next cell is possible see the resultant dataframe from the code above.", 
            "cell_type": "markdown", 
            "metadata": {}
        }, 
        {
            "execution_count": 12, 
            "cell_type": "code", 
            "metadata": {}, 
            "outputs": [
                {
                    "execution_count": 12, 
                    "metadata": {}, 
                    "data": {
                        "text/html": "<div>\n<style scoped>\n    .dataframe tbody tr th:only-of-type {\n        vertical-align: middle;\n    }\n\n    .dataframe tbody tr th {\n        vertical-align: top;\n    }\n\n    .dataframe thead th {\n        text-align: right;\n    }\n</style>\n<table border=\"1\" class=\"dataframe\">\n  <thead>\n    <tr style=\"text-align: right;\">\n      <th></th>\n      <th>PostalCode</th>\n      <th>Borough</th>\n      <th>Neighborhood</th>\n      <th>Latitude</th>\n      <th>Longitude</th>\n    </tr>\n  </thead>\n  <tbody>\n    <tr>\n      <th>95</th>\n      <td>M9C</td>\n      <td>Etobicoke</td>\n      <td>Bloordale Gardens, Eringate, Markland Wood, Ol...</td>\n      <td>43.643515</td>\n      <td>-79.577201</td>\n    </tr>\n    <tr>\n      <th>78</th>\n      <td>M6K</td>\n      <td>West Toronto</td>\n      <td>Brockton, Exhibition Place, Parkdale Village</td>\n      <td>43.636847</td>\n      <td>-79.428191</td>\n    </tr>\n    <tr>\n      <th>4</th>\n      <td>M1H</td>\n      <td>Scarborough</td>\n      <td>Cedarbrae</td>\n      <td>43.773136</td>\n      <td>-79.239476</td>\n    </tr>\n    <tr>\n      <th>1</th>\n      <td>M1C</td>\n      <td>Scarborough</td>\n      <td>Highland Creek, Rouge Hill, Port Union</td>\n      <td>43.784535</td>\n      <td>-79.160497</td>\n    </tr>\n    <tr>\n      <th>63</th>\n      <td>M5N</td>\n      <td>Central Toronto</td>\n      <td>Roselawn</td>\n      <td>43.711695</td>\n      <td>-79.416936</td>\n    </tr>\n    <tr>\n      <th>31</th>\n      <td>M3L</td>\n      <td>North York</td>\n      <td>Downsview West</td>\n      <td>43.739015</td>\n      <td>-79.506944</td>\n    </tr>\n    <tr>\n      <th>88</th>\n      <td>M8V</td>\n      <td>Etobicoke</td>\n      <td>Humber Bay Shores, Mimico South, New Toronto</td>\n      <td>43.605647</td>\n      <td>-79.501321</td>\n    </tr>\n    <tr>\n      <th>67</th>\n      <td>M5T</td>\n      <td>Downtown Toronto</td>\n      <td>Chinatown, Grange Park, Kensington Market</td>\n      <td>43.653206</td>\n      <td>-79.400049</td>\n    </tr>\n    <tr>\n      <th>87</th>\n      <td>M7Y</td>\n      <td>East Toronto</td>\n      <td>Business Reply Mail Processing Centre 969 Eastern</td>\n      <td>43.662744</td>\n      <td>-79.321558</td>\n    </tr>\n    <tr>\n      <th>27</th>\n      <td>M3C</td>\n      <td>North York</td>\n      <td>Flemingdon Park, Don Mills South</td>\n      <td>43.725900</td>\n      <td>-79.340923</td>\n    </tr>\n  </tbody>\n</table>\n</div>", 
                        "text/plain": "   PostalCode           Borough  \\\n95        M9C         Etobicoke   \n78        M6K      West Toronto   \n4         M1H       Scarborough   \n1         M1C       Scarborough   \n63        M5N   Central Toronto   \n31        M3L        North York   \n88        M8V         Etobicoke   \n67        M5T  Downtown Toronto   \n87        M7Y      East Toronto   \n27        M3C        North York   \n\n                                         Neighborhood   Latitude  Longitude  \n95  Bloordale Gardens, Eringate, Markland Wood, Ol...  43.643515 -79.577201  \n78       Brockton, Exhibition Place, Parkdale Village  43.636847 -79.428191  \n4                                           Cedarbrae  43.773136 -79.239476  \n1              Highland Creek, Rouge Hill, Port Union  43.784535 -79.160497  \n63                                           Roselawn  43.711695 -79.416936  \n31                                     Downsview West  43.739015 -79.506944  \n88       Humber Bay Shores, Mimico South, New Toronto  43.605647 -79.501321  \n67          Chinatown, Grange Park, Kensington Market  43.653206 -79.400049  \n87  Business Reply Mail Processing Centre 969 Eastern  43.662744 -79.321558  \n27                   Flemingdon Park, Don Mills South  43.725900 -79.340923  "
                    }, 
                    "output_type": "execute_result"
                }
            ], 
            "source": "toronto_df.sample(n=10)"
        }, 
        {
            "source": "This Work continues in the next Part...", 
            "cell_type": "markdown", 
            "metadata": {}
        }
    ], 
    "metadata": {
        "kernelspec": {
            "display_name": "Python 3.5", 
            "name": "python3", 
            "language": "python"
        }, 
        "language_info": {
            "mimetype": "text/x-python", 
            "nbconvert_exporter": "python", 
            "version": "3.5.5", 
            "name": "python", 
            "file_extension": ".py", 
            "pygments_lexer": "ipython3", 
            "codemirror_mode": {
                "version": 3, 
                "name": "ipython"
            }
        }
    }, 
    "nbformat": 4
}